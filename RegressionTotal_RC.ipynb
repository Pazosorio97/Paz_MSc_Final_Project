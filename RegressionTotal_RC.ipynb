{
 "cells": [
  {
   "cell_type": "code",
   "execution_count": null,
   "metadata": {},
   "outputs": [],
   "source": [
    "#This code finds the linear regression of several CSV files to find R and C"
   ]
  },
  {
   "cell_type": "code",
   "execution_count": 1,
   "metadata": {},
   "outputs": [
    {
     "name": "stdout",
     "output_type": "stream",
     "text": [
      "Error processing DATA\\Property_ID=EOH0136.csv: Found array with 0 sample(s) (shape=(0, 2)) while a minimum of 1 is required by LinearRegression.\n",
      "Error processing DATA\\Property_ID=EOH0205.csv: Found array with 0 sample(s) (shape=(0, 2)) while a minimum of 1 is required by LinearRegression.\n",
      "Error processing DATA\\Property_ID=EOH0345.csv: 'Timestamp'\n"
     ]
    },
    {
     "name": "stderr",
     "output_type": "stream",
     "text": [
      "C:\\Users\\maria\\AppData\\Local\\Temp\\ipykernel_102900\\144494982.py:74: RuntimeWarning: divide by zero encountered in scalar divide\n",
      "  C_initial = 1 / beta_2\n",
      "C:\\Users\\maria\\AppData\\Local\\Temp\\ipykernel_102900\\144494982.py:84: RuntimeWarning: invalid value encountered in scalar multiply\n",
      "  return file_path, R_initial, C_initial, R_initial * C_initial, rmse, r_squared\n",
      "C:\\Users\\maria\\AppData\\Local\\Temp\\ipykernel_102900\\144494982.py:74: RuntimeWarning: divide by zero encountered in scalar divide\n",
      "  C_initial = 1 / beta_2\n",
      "C:\\Users\\maria\\AppData\\Local\\Temp\\ipykernel_102900\\144494982.py:84: RuntimeWarning: invalid value encountered in scalar multiply\n",
      "  return file_path, R_initial, C_initial, R_initial * C_initial, rmse, r_squared\n"
     ]
    },
    {
     "name": "stdout",
     "output_type": "stream",
     "text": [
      "Error processing DATA\\Property_ID=EOH1481.csv: \"['Internal_Air_Temperature', 'Heat_Pump_Energy_Output'] not in index\"\n",
      "Error processing DATA\\Property_ID=EOH1658.csv: Found array with 0 sample(s) (shape=(0, 2)) while a minimum of 1 is required by LinearRegression.\n",
      "Error processing DATA\\Property_ID=EOH1880.csv: 'Timestamp'\n"
     ]
    },
    {
     "name": "stderr",
     "output_type": "stream",
     "text": [
      "C:\\Users\\maria\\AppData\\Local\\Temp\\ipykernel_102900\\144494982.py:74: RuntimeWarning: divide by zero encountered in scalar divide\n",
      "  C_initial = 1 / beta_2\n",
      "C:\\Users\\maria\\AppData\\Local\\Temp\\ipykernel_102900\\144494982.py:84: RuntimeWarning: invalid value encountered in scalar multiply\n",
      "  return file_path, R_initial, C_initial, R_initial * C_initial, rmse, r_squared\n"
     ]
    },
    {
     "name": "stdout",
     "output_type": "stream",
     "text": [
      "Error processing DATA\\Property_ID=EOH2622.csv: \"['Heat_Pump_Energy_Output'] not in index\"\n",
      "Processing completed. Results saved to results3.xlsx.\n"
     ]
    }
   ],
   "source": [
    "import os\n",
    "import pandas as pd\n",
    "import numpy as np\n",
    "from sklearn.linear_model import LinearRegression\n",
    "from sklearn.metrics import mean_squared_error, r2_score\n",
    "\n",
    "# Path to the folder containing the CSV files\n",
    "folder_path = \"DATA\"\n",
    "\n",
    "# List to store results\n",
    "results = []\n",
    "\n",
    "# Function to process each CSV file\n",
    "def process_file(file_path):\n",
    "    data = pd.read_csv(file_path)\n",
    "    data['Timestamp'] = pd.to_datetime(data['Timestamp'])\n",
    "    data = data[['Timestamp', 'External_Air_Temperature', 'Internal_Air_Temperature', 'Heat_Pump_Energy_Output']]\n",
    "    data['Time_Diff'] = data['Timestamp'].diff().dt.total_seconds()\n",
    "\n",
    "    # Calculate incremental heat pump energy in kW\n",
    "    data['Heat_Pump_Energy_Incremental'] = data['Heat_Pump_Energy_Output'].diff()\n",
    "    data['Heat_Pump_Energy_Incremental_kW'] = data['Heat_Pump_Energy_Incremental'] / (data['Time_Diff'] / 3600)\n",
    "\n",
    "    # Resample data to 10-minute intervals (averaging each 5x2-min intervals)\n",
    "    grouped_data = []\n",
    "    i = 0\n",
    "    while i < len(data) - 4:\n",
    "        avg_row = data.iloc[i:i+5].mean()\n",
    "        avg_row['Timestamp'] = data['Timestamp'].iloc[i+4]\n",
    "        grouped_data.append(avg_row)\n",
    "        i += 5\n",
    "    aggregated_data = pd.DataFrame(grouped_data)\n",
    "  \n",
    "    # Filter data for nighttime hours (21:00 to 05:00)\n",
    "    aggregated_data['Hour'] = aggregated_data['Timestamp'].dt.hour\n",
    "    night_data = aggregated_data[(aggregated_data['Hour'] >= 21) | (aggregated_data['Hour'] < 5)].copy()\n",
    "\n",
    "    # Drop rows with missing values in relevant columns\n",
    "    night_data.dropna(subset=['External_Air_Temperature', 'Internal_Air_Temperature', 'Heat_Pump_Energy_Incremental_kW'], inplace=True)\n",
    "\n",
    "    # Initialise new columns\n",
    "    night_data['dT_in/dt'] = np.nan\n",
    "    night_data['Heat_Pump_Energy_Incremental_kW_2'] = np.nan\n",
    "    for i in range(1, len(night_data)):\n",
    "        time_diff = (night_data.iloc[i]['Timestamp'] - night_data.iloc[i-1]['Timestamp']).total_seconds()\n",
    "        if time_diff <= 1200:\n",
    "            night_data.at[night_data.index[i], 'dT_in/dt'] = (night_data.iloc[i]['Internal_Air_Temperature'] - night_data.iloc[i-1]['Internal_Air_Temperature']) / (time_diff / 3600)\n",
    "            night_data.at[night_data.index[i], 'Heat_Pump_Energy_Incremental_kW_2'] = (night_data.iloc[i]['Heat_Pump_Energy_Output'] - night_data.iloc[i-1]['Heat_Pump_Energy_Output']) / (time_diff / 3600)\n",
    "\n",
    "    # Drop rows with Heat_Pump_Energy_Incremental_kW higher than 20 kW\n",
    "    night_data = night_data[night_data['Heat_Pump_Energy_Incremental_kW_2'] < 20].copy()\n",
    "   \n",
    "    # Drop rows with missing values in the new calculated columns\n",
    "    night_data.dropna(subset=['dT_in/dt', 'Heat_Pump_Energy_Incremental_kW_2'], inplace=True)\n",
    "\n",
    "    # Define variables for regression\n",
    "    T_in = night_data['Internal_Air_Temperature']\n",
    "    T_out = night_data['External_Air_Temperature']\n",
    "    Q = night_data['Heat_Pump_Energy_Incremental_kW_2']\n",
    "    dT_in_dt = night_data['dT_in/dt']\n",
    "\n",
    "    # Prepare data for linear regression\n",
    "    X = np.vstack(((T_out - T_in), Q)).T\n",
    "    y = dT_in_dt.values\n",
    "\n",
    "    # Perform initial linear regression forcing the intercept to zero\n",
    "    initial_model = LinearRegression(fit_intercept=False)\n",
    "    initial_model.fit(X, y)\n",
    "\n",
    "    # Obtain initial coefficients\n",
    "    beta_1, beta_2 = initial_model.coef_\n",
    "\n",
    "    # Calculate initial R and C\n",
    "    C_initial = 1 / beta_2\n",
    "    R_initial = beta_2 / beta_1\n",
    "\n",
    "    # Calculate RMSE\n",
    "    rmse = np.sqrt(mean_squared_error(y, initial_model.predict(X)))\n",
    "\n",
    "    # Calculate R-squared\n",
    "    r_squared = r2_score(y, initial_model.predict(X))\n",
    "\n",
    "    # Return results\n",
    "    return file_path, R_initial, C_initial, R_initial * C_initial, rmse, r_squared\n",
    "\n",
    "# Iterate over all CSV files in the folder and process them\n",
    "for filename in os.listdir(folder_path):\n",
    "    if filename.endswith(\".csv\"):\n",
    "        file_path = os.path.join(folder_path, filename)\n",
    "        try:\n",
    "            result = process_file(file_path)\n",
    "            results.append(result)\n",
    "        except Exception as e:\n",
    "            print(f\"Error processing {file_path}: {e}\")\n",
    "\n",
    "# Save results to an Excel file\n",
    "results_df = pd.DataFrame(results, columns=['File Name', 'R', 'C', 'TTC', 'RMSE', 'R-squared'])\n",
    "results_df.to_excel(\"results3.xlsx\", index=False)\n",
    "\n",
    "print(\"Processing completed. Results saved to results3.xlsx.\")\n",
    "\n"
   ]
  }
 ],
 "metadata": {
  "kernelspec": {
   "display_name": "base",
   "language": "python",
   "name": "python3"
  },
  "language_info": {
   "codemirror_mode": {
    "name": "ipython",
    "version": 3
   },
   "file_extension": ".py",
   "mimetype": "text/x-python",
   "name": "python",
   "nbconvert_exporter": "python",
   "pygments_lexer": "ipython3",
   "version": "3.12.3"
  }
 },
 "nbformat": 4,
 "nbformat_minor": 2
}
